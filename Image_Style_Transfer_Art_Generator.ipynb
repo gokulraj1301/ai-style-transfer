{
 "cells": [
  {
   "cell_type": "markdown",
   "id": "754626e8",
   "metadata": {},
   "source": [
    "# 🎨 Image Style Transfer to Ghibli, Pixar, Anime, and More\n",
    "This notebook lets users upload a photo and convert it to a stylized art image (e.g., Ghibli, Pixar, Anime, etc.) using open-source models from HuggingFace.\n",
    "\n",
    "**Goal**: Take a photo and output it in a new art style.\n",
    "- Output format: PNG\n",
    "- Privacy: No external APIs, runs locally in Colab\n",
    "- Interface: Streamlit Web App (deployment section below)\n",
    "\n",
    "Supported Styles:\n",
    "- Ghibli\n",
    "- Pixar\n",
    "- Lego\n",
    "- Watercolor\n",
    "- Simpson\n",
    "- Disney\n",
    "- Chibi\n",
    "- Comic\n",
    "- Anime\n",
    "- Powerpuff Girls\n"
   ]
  },
  {
   "cell_type": "code",
   "execution_count": null,
   "id": "f52a4e50",
   "metadata": {},
   "outputs": [],
   "source": [
    "# Cell 1: Install required libraries\n",
    "!pip install diffusers transformers accelerate --quiet\n",
    "!pip install xformers --quiet\n",
    "!pip install torch torchvision torchaudio --index-url https://download.pytorch.org/whl/cu118 --quiet"
   ]
  },
  {
   "cell_type": "code",
   "execution_count": null,
   "id": "6064ebce",
   "metadata": {},
   "outputs": [],
   "source": [
    "# Cell 2: Import libraries\n",
    "import torch\n",
    "from PIL import Image\n",
    "from diffusers import StableDiffusionImg2ImgPipeline\n",
    "import requests\n",
    "from io import BytesIO\n",
    "import os"
   ]
  },
  {
   "cell_type": "code",
   "execution_count": null,
   "id": "3d3d860a",
   "metadata": {},
   "outputs": [],
   "source": [
    "# Cell 3: Load the model from HuggingFace (no API key needed)\n",
    "# We use a general Img2Img model for style prompts\n",
    "model_id = \"CompVis/stable-diffusion-v1-4\"\n",
    "pipe = StableDiffusionImg2ImgPipeline.from_pretrained(\n",
    "    model_id,\n",
    "    torch_dtype=torch.float16,\n",
    "    revision=\"fp16\",\n",
    "    use_auth_token=False\n",
    ").to(\"cuda\")\n",
    "pipe.enable_xformers_memory_efficient_attention()"
   ]
  },
  {
   "cell_type": "code",
   "execution_count": null,
   "id": "3def2bdf",
   "metadata": {},
   "outputs": [],
   "source": [
    "# Cell 4: Upload an image\n",
    "from google.colab import files\n",
    "uploaded = files.upload()\n",
    "image_path = next(iter(uploaded))\n",
    "init_image = Image.open(image_path).convert(\"RGB\")\n",
    "init_image = init_image.resize((512, 512))\n",
    "init_image.save(\"original.png\")"
   ]
  },
  {
   "cell_type": "code",
   "execution_count": null,
   "id": "21ce88f8",
   "metadata": {},
   "outputs": [],
   "source": [
    "# Cell 5: Define style prompts\n",
    "style_prompts = {\n",
    "    \"Ghibli\": \"A portrait in Studio Ghibli anime style\",\n",
    "    \"Pixar\": \"Pixar-style 3D render of a person\",\n",
    "    \"Lego\": \"Lego figure style image of a person\",\n",
    "    \"Watercolor\": \"Watercolor painting of a person\",\n",
    "    \"Simpson\": \"A character in the Simpsons cartoon style\",\n",
    "    \"Disney\": \"Disney animated character portrait\",\n",
    "    \"Chibi\": \"Cute Chibi anime character portrait\",\n",
    "    \"Comic\": \"Comic book style portrait illustration\",\n",
    "    \"Anime\": \"Japanese anime style character\",\n",
    "    \"Powerpuff\": \"Powerpuff Girls character portrait\"\n",
    "}"
   ]
  },
  {
   "cell_type": "code",
   "execution_count": null,
   "id": "4657fe73",
   "metadata": {},
   "outputs": [],
   "source": [
    "# Cell 6: Generate stylized image\n",
    "style = \"Ghibli\"  # Change this manually to another style from the dict\n",
    "prompt = style_prompts[style]\n",
    "image = pipe(prompt=prompt, image=init_image, strength=0.75, guidance_scale=7.5).images[0]\n",
    "output_filename = f\"stylized_{style}.png\"\n",
    "image.save(output_filename)\n",
    "image.show()"
   ]
  },
  {
   "cell_type": "code",
   "execution_count": null,
   "id": "818dfffa",
   "metadata": {},
   "outputs": [],
   "source": [
    "# Cell 7: Save model (not strictly required, but for completeness)\n",
    "import pickle\n",
    "with open(\"style_transfer_pipe.pkl\", \"wb\") as f:\n",
    "    pickle.dump(pipe, f)"
   ]
  }
 ],
 "metadata": {
  "kernelspec": {
   "display_name": "Python 3",
   "name": "python3"
  }
 },
 "nbformat": 4,
 "nbformat_minor": 5
}
